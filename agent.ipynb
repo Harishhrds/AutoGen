{
 "cells": [
  {
   "cell_type": "markdown",
   "id": "01773397",
   "metadata": {},
   "source": [
    "Create a LangChain agent that can:\n",
    "\n",
    "Retrieve answers from documents (using vector DB or simple text).\n",
    "\n",
    "Perform calculations (using a calculator tool).\n",
    "\n",
    "Use AgentExecutor to decide which tool to use(based on description and user_input)"
   ]
  },
  {
   "cell_type": "code",
   "execution_count": 1,
   "id": "8b9f4f34",
   "metadata": {},
   "outputs": [],
   "source": [
    "from langchain_openai import OpenAI,OpenAIEmbeddings\n",
    "from langchain.agents import Tool,initialize_agent,load_tools\n",
    "from langchain.agents.agent_types import AgentType\n",
    "from langchain.tools import tool\n",
    "from langchain.tools import DuckDuckGoSearchRun\n",
    "\n",
    "from langchain.text_splitter import CharacterTextSplitter\n",
    "from langchain.document_loaders import PyPDFLoader\n",
    "from langchain.vectorstores import FAISS\n",
    "from langchain.embeddings import OpenAIEmbeddings"
   ]
  },
  {
   "cell_type": "code",
   "execution_count": 14,
   "id": "873b20bb",
   "metadata": {},
   "outputs": [
    {
     "data": {
      "text/plain": [
       "'Provided proper attribution is provided, Google hereby grants permission to\\nreproduce the tables and figures in this paper solely for use in journalistic or\\nscholarly works.\\nAttention Is All You Need\\nAshish Vaswani∗\\nGoogle Brain\\navaswani@google.com\\nNoam Shazeer∗\\nGoogle Brain\\nnoam@google.com\\nNiki Parmar∗\\nGoogle Research\\nnikip@google.com\\nJakob Uszkoreit∗\\nGoogle Research\\nusz@google.com\\nLlion Jones∗\\nGoogle Research\\nllion@google.com\\nAidan N. Gomez∗ †\\nUniversity of Toronto\\naidan@cs.toronto.edu\\nŁukasz Kaiser∗\\nGoogle Brain\\nlukaszkaiser@google.com\\nIllia Polosukhin∗ ‡\\nillia.polosukhin@gmail.com\\nAbstract\\nThe dominant sequence transduction models are based on complex recurrent or\\nconvolutional neural networks that include an encoder and a decoder. The best\\nperforming models also connect the encoder and decoder through an attention\\nmechanism. We propose a new simple network architecture, the Transformer,\\nbased solely on attention mechanisms, dispensing with recurrence and convolutions\\nentirely. Experiments on two machine translation tasks show these models to\\nbe superior in quality while being more parallelizable and requiring significantly\\nless time to train. Our model achieves 28.4 BLEU on the WMT 2014 English-\\nto-German translation task, improving over the existing best results, including\\nensembles, by over 2 BLEU. On the WMT 2014 English-to-French translation task,\\nour model establishes a new single-model state-of-the-art BLEU score of 41.8 after\\ntraining for 3.5 days on eight GPUs, a small fraction of the training costs of the\\nbest models from the literature. We show that the Transformer generalizes well to\\nother tasks by applying it successfully to English constituency parsing both with\\nlarge and limited training data.\\n∗Equal contribution. Listing order is random. Jakob proposed replacing RNNs with self-attention and started\\nthe effort to evaluate this idea. Ashish, with Illia, designed and implemented the first Transformer models and\\nhas been crucially involved in every aspect of this work. Noam proposed scaled dot-product attention, multi-head\\nattention and the parameter-free position representation and became the other person involved in nearly every\\ndetail. Niki designed, implemented, tuned and evaluated countless model variants in our original codebase and\\ntensor2tensor. Llion also experimented with novel model variants, was responsible for our initial codebase, and\\nefficient inference and visualizations. Lukasz and Aidan spent countless long days designing various parts of and\\nimplementing tensor2tensor, replacing our earlier codebase, greatly improving results and massively accelerating\\nour research.\\n†Work performed while at Google Brain.\\n‡Work performed while at Google Research.\\n31st Conference on Neural Information Processing Systems (NIPS 2017), Long Beach, CA, USA.\\narXiv:1706.03762v7  [cs.CL]  2 Aug 2023'"
      ]
     },
     "execution_count": 14,
     "metadata": {},
     "output_type": "execute_result"
    }
   ],
   "source": [
    "loader = PyPDFLoader(r\"C:\\Users\\Lenovo\\Desktop\\LANGCHAIN_PROJECT\\1-Langchain\\3.3-Data Trnasformer\\attention.pdf\")\n",
    "docs = loader.load()\n",
    "docs[0].page_content"
   ]
  },
  {
   "cell_type": "code",
   "execution_count": 18,
   "id": "2b28cdfc",
   "metadata": {},
   "outputs": [],
   "source": [
    "splitter = CharacterTextSplitter(chunk_size=400,chunk_overlap=100)\n",
    "documents = splitter.split_documents(docs)\n",
    "embeddings = OpenAIEmbeddings()\n",
    "vectorstore = FAISS.from_documents(documents,embeddings)\n",
    "retriever = vectorstore.as_retriever()"
   ]
  },
  {
   "cell_type": "code",
   "execution_count": 33,
   "id": "b9193bd3",
   "metadata": {},
   "outputs": [
    {
     "name": "stdout",
     "output_type": "stream",
     "text": [
      "\n",
      "Answer 1:\n",
      "\n",
      "\n",
      "\u001b[1m> Entering new AgentExecutor chain...\u001b[0m\n",
      "\u001b[32;1m\u001b[1;3m I should use the Document_Search tool to search for keywords or phrases that summarize the main idea.\n",
      "Action: Document_Search\n",
      "Action Input: 'main idea'\u001b[0m\n",
      "Observation: \u001b[36;1m\u001b[1;3mInput-Input Layer5 The Law will never be perfect , but its application should be just - this is what we are missing , in my opinion . <EOS> <pad> The Law will never be perfect , but its application should be just - this is what we are missing , in my opinion . <EOS> <pad> Input-Input Layer5 The Law will never be perfect , but its application should be just - this is what we are missing , in my opinion . <EOS> <pad> The Law will never be perfect , but its application should be just - this is what we are missing , in my opinion . <EOS> <pad> Figure 4: Two attention heads, also in layer 5 of 6, apparently involved in anaphora resolution. Top: Full attentions for head 5. Bottom: Isolated attentions from just the word ‘its’ for attention heads 5 and 6. Note that the attentions are very sharp for this word. 14\u001b[0m\n",
      "Thought:\u001b[32;1m\u001b[1;3m Based on the observations, it seems like the main idea of the document is about the imperfection of the law and the need for its just application.\n",
      "Action: Document_Search\n",
      "Action Input: 'imperfection of the law'\u001b[0m\n",
      "Observation: \u001b[36;1m\u001b[1;3mInput-Input Layer5 The Law will never be perfect , but its application should be just - this is what we are missing , in my opinion . <EOS> <pad> The Law will never be perfect , but its application should be just - this is what we are missing , in my opinion . <EOS> <pad> Input-Input Layer5 The Law will never be perfect , but its application should be just - this is what we are missing , in my opinion . <EOS> <pad> The Law will never be perfect , but its application should be just - this is what we are missing , in my opinion . <EOS> <pad> Figure 5: Many of the attention heads exhibit behaviour that seems related to the structure of the sentence. We give two such examples above, from two different heads from the encoder self-attention at layer 5 of 6. The heads clearly learned to perform different tasks. 15\u001b[0m\n",
      "Thought:\u001b[32;1m\u001b[1;3m The observations support the idea that the main idea of the document is about the imperfection of the law and its application.\n",
      "Action: Document_Search\n",
      "Action Input: 'law application'\u001b[0m\n",
      "Observation: \u001b[36;1m\u001b[1;3mInput-Input Layer5 The Law will never be perfect , but its application should be just - this is what we are missing , in my opinion . <EOS> <pad> The Law will never be perfect , but its application should be just - this is what we are missing , in my opinion . <EOS> <pad> Input-Input Layer5 The Law will never be perfect , but its application should be just - this is what we are missing , in my opinion . <EOS> <pad> The Law will never be perfect , but its application should be just - this is what we are missing , in my opinion . <EOS> <pad> Figure 5: Many of the attention heads exhibit behaviour that seems related to the structure of the sentence. We give two such examples above, from two different heads from the encoder self-attention at layer 5 of 6. The heads clearly learned to perform different tasks. 15\u001b[0m\n",
      "Thought:\u001b[32;1m\u001b[1;3m The observations further support the idea that the main idea of the document is about the application of the law and its imperfection.\n",
      "Thought: I now know the final answer\n",
      "Final Answer: The main idea of the document is about the imperfection of the law and the need for its just application.\u001b[0m\n",
      "\n",
      "\u001b[1m> Finished chain.\u001b[0m\n",
      "The main idea of the document is about the imperfection of the law and the need for its just application.\n",
      "\n",
      "Answer 2:\n",
      "\n",
      "\n",
      "\u001b[1m> Entering new AgentExecutor chain...\u001b[0m\n",
      "\u001b[32;1m\u001b[1;3m I should use the Calculator tool to solve this math problem.\n",
      "Action: Calculator\n",
      "Action Input: 234 * 17 + 45\u001b[0m\n",
      "Observation: \u001b[33;1m\u001b[1;3mAnswer: 4023\u001b[0m\n",
      "Thought:\u001b[32;1m\u001b[1;3m I now know the final answer.\n",
      "Final Answer: 4023\u001b[0m\n",
      "\n",
      "\u001b[1m> Finished chain.\u001b[0m\n",
      "4023\n"
     ]
    }
   ],
   "source": [
    "# Define Tools(Retriever+Calculator)\n",
    "@tool\n",
    "# 3️⃣ Define the document search tool\n",
    "def document_search(query: str) -> str:\n",
    "    \"\"\"Search uploaded document and return relevant content.\"\"\"\n",
    "    result = retriever.get_relevant_documents(query)\n",
    "    if result:\n",
    "        raw_text = result[0].page_content\n",
    "        cleaned = \" \".join(raw_text.split())  # removes \\n and extra whitespace\n",
    "        return cleaned\n",
    "    else:\n",
    "        return \"No relevant info found.\"\n",
    "        # return result[0].page_content if result else \"No relevant info found.\"\n",
    "\n",
    "document_tool = Tool(name=\"Document_Search\",func=document_search,\n",
    "                     description=\"answer the questions based on provided document\")\n",
    "# calculator\n",
    "llm = OpenAI(temperature=0)\n",
    "math_tools = load_tools([\"llm-math\"],llm=llm)\n",
    "\n",
    "# combine tools\n",
    "tools = [document_tool]+math_tools\n",
    "\n",
    "# initialize agent\n",
    "agent = initialize_agent(\n",
    "    tools = tools,\n",
    "    llm=llm,\n",
    "    agent = AgentType.ZERO_SHOT_REACT_DESCRIPTION,\n",
    "    verbose=True\n",
    ")\n",
    "\n",
    "# 7️⃣ Ask agent a mixed question\n",
    "question1 = \"What is the main idea of the document?\"\n",
    "question2 = \"What is 234 * 17 + 45?\"\n",
    "\n",
    "print(\"\\nAnswer 1:\")\n",
    "print(agent.run(question1))\n",
    "\n",
    "print(\"\\nAnswer 2:\")\n",
    "print(agent.run(question2))\n",
    "\n",
    "    "
   ]
  },
  {
   "cell_type": "markdown",
   "id": "d416a452",
   "metadata": {},
   "source": [
    "# \"Zero-Shot\":\n",
    "The agent has no training examples.\n",
    "\n",
    "It understands tasks purely from the tool descriptions and the user query.\n",
    "# \"ReAct\":\n",
    "The agent performs reasoning (thinking step-by-step),\n",
    "\n",
    "and acts (calls a tool) as needed.\n",
    "\n",
    "# \"DESCRIPTION\":\n",
    "Each tool you pass has a description (e.g., “Useful for math operations”).\n",
    "\n",
    "The agent uses these descriptions to choose which tool to call."
   ]
  }
 ],
 "metadata": {
  "kernelspec": {
   "display_name": "Python 3",
   "language": "python",
   "name": "python3"
  },
  "language_info": {
   "codemirror_mode": {
    "name": "ipython",
    "version": 3
   },
   "file_extension": ".py",
   "mimetype": "text/x-python",
   "name": "python",
   "nbconvert_exporter": "python",
   "pygments_lexer": "ipython3",
   "version": "3.10.18"
  }
 },
 "nbformat": 4,
 "nbformat_minor": 5
}
